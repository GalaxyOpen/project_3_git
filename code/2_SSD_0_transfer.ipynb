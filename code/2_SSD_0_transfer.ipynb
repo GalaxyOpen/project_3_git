{
 "cells": [
  {
   "cell_type": "code",
   "execution_count": null,
   "metadata": {},
   "outputs": [],
   "source": [
    "# 기본 작업 경로 설정\n",
    "\n",
    "import os\n",
    "notebook_path = os.path.abspath(\"project_3_git/readme.md\")\n",
    "notebook_dir = os.path.dirname(notebook_path)\n",
    "os.chdir(notebook_dir)\n",
    "\n",
    "# 현재 작업 디렉토리 출력\n",
    "print(\"Current working directory: \", os.getcwd())"
   ]
  },
  {
   "cell_type": "code",
   "execution_count": null,
   "metadata": {},
   "outputs": [],
   "source": [
    "import torch\n",
    "from torchvision.models.detection import ssdlite320_mobilenet_v3_large\n",
    "from torchvision.transforms import functional as F\n",
    "from PIL import Image, ImageDraw\n",
    "import matplotlib.pyplot as plt\n",
    "\n",
    "# 모델 로드 및 설정\n",
    "model = ssdlite320_mobilenet_v3_large(pretrained=True)\n",
    "model.eval()\n",
    "\n",
    "# 이미지 로드 및 전처리\n",
    "def preprocess(image_path):\n",
    "    image = Image.open(image_path).convert(\"RGB\")\n",
    "    image_tensor = F.to_tensor(image)\n",
    "    image_tensor = image_tensor.unsqueeze(0)\n",
    "    return image, image_tensor\n",
    "\n",
    "def draw_boxes(image, boxes):\n",
    "    draw = ImageDraw.Draw(image)\n",
    "    for box in boxes:\n",
    "        draw.rectangle(box.tolist(), outline=\"red\", width=3)\n",
    "    return image\n",
    "\n",
    "image_path = 'test.png'\n",
    "image, image_tensor = preprocess(image_path)\n",
    "\n",
    "# 예측\n",
    "with torch.no_grad():\n",
    "    predictions = model(image_tensor)\n",
    "\n",
    "# 박스 좌표 추출\n",
    "boxes = predictions[0]['boxes']\n",
    "scores = predictions[0]['scores']\n",
    "threshold = 0.5  # 신뢰도 임계값\n",
    "boxes = boxes[scores > threshold]\n",
    "\n",
    "# 이미지에 박스 그리기\n",
    "image_with_boxes = draw_boxes(image, boxes)\n",
    "\n",
    "# 이미지 시각화\n",
    "plt.imshow(image_with_boxes)\n",
    "plt.axis('off')\n",
    "plt.show()\n"
   ]
  }
 ],
 "metadata": {
  "language_info": {
   "name": "python"
  }
 },
 "nbformat": 4,
 "nbformat_minor": 2
}
