{
 "cells": [
  {
   "cell_type": "code",
   "execution_count": 1,
   "metadata": {},
   "outputs": [
    {
     "name": "stdout",
     "output_type": "stream",
     "text": [
      "Current working directory:  /mnt/e/py_data/project_3_git/code_data_gen\n"
     ]
    }
   ],
   "source": [
    "# 기본 작업 경로 설정\n",
    "import os\n",
    "notebook_path = os.path.abspath(\"project_3_git/code_data_gen/2_image_pred_and_gen.ipynb\")\n",
    "notebook_dir = os.path.dirname(notebook_path)\n",
    "os.chdir(notebook_dir)\n",
    "\n",
    "# 현재 작업 디렉토리 출력\n",
    "print(\"Current working directory: \", os.getcwd())"
   ]
  },
  {
   "cell_type": "code",
   "execution_count": 60,
   "metadata": {},
   "outputs": [],
   "source": [
    "import cv2\n",
    "from ultralytics import YOLO\n",
    "from ultralytics.models import YOLOv10\n",
    "import json\n",
    "\n",
    "oiv_json_file_path = '../data/yolo_oiv7/oiv7_jabels.json'\n",
    "# JSON 파일을 열고 읽기\n",
    "with open(oiv_json_file_path, 'r', encoding='utf-8') as file:\n",
    "    oiv_dict = (json.load(file))\n",
    "\n",
    "emotion_mapping = {\n",
    "    0 : '분노',\n",
    "    1 : '슬픔',\n",
    "    2 : '공포',\n",
    "    3 : '기쁨',\n",
    "}\n",
    "\n",
    "\n",
    "\n",
    "def output_of_pic(img_):\n",
    "    img__ = img_\n",
    "    model_from_pret = YOLO('../code/yolov8x-oiv7.pt')\n",
    "    model_from_pret_2 = YOLOv10('../code/yolov10n-face.pt')\n",
    "    answer = ''\n",
    "\n",
    "    for i in set([emotion_mapping[int(i)] for i in model_from_pret_2(img__, verbose=False)[0].boxes.cls]):\n",
    "        answer += i + ', '\n",
    "    for i in set([oiv_dict[str(int(i))] for i in model_from_pret(img__, verbose=False)[0].boxes.cls]):\n",
    "        answer += i + ', '\n",
    "\n",
    "    return answer[:-1]\n"
   ]
  },
  {
   "cell_type": "code",
   "execution_count": 58,
   "metadata": {},
   "outputs": [],
   "source": [
    "import os\n",
    "\n",
    "# 경로 설정\n",
    "directory_path = '../data/yolo_data/train'\n",
    "\n",
    "# 파일만 필터링하여 리스트 생성\n",
    "files_only = [f for f in os.listdir(directory_path) if os.path.isfile(os.path.join(directory_path, f))]"
   ]
  },
  {
   "cell_type": "code",
   "execution_count": 67,
   "metadata": {},
   "outputs": [
    {
     "name": "stderr",
     "output_type": "stream",
     "text": [
      "100%|████████████████████████████████████████████████████████████████████████████████████████████| 11988/11988 [3:06:10<00:00,  1.07it/s]\n"
     ]
    }
   ],
   "source": [
    "from tqdm import tqdm\n",
    "\n",
    "for file_name_of_pic in tqdm(files_only):\n",
    "    if 'txt' not in file_name_of_pic:\n",
    "        file_image = cv2.imread('../data/yolo_data/train/' + file_name_of_pic)\n",
    "        pic_out = output_of_pic(file_image)[:-1]\n",
    "        with open('output.txt', 'a', encoding='utf-8') as file:\n",
    "            file.write(pic_out + '\\n')  # 한 줄 작성 후 개행 문자 추가\n"
   ]
  },
  {
   "cell_type": "code",
   "execution_count": 52,
   "metadata": {},
   "outputs": [
    {
     "data": {
      "text/plain": [
       "['공포, 소녀, 인간의 얼굴, 헤드폰, 의류,',\n",
       " '여자, 청바지, 신발, 버스, 남자,',\n",
       " '슬픔, 분노, 소녀, 인간의 얼굴, 의류,',\n",
       " '여자, 청바지, 신발, 버스, 남자,',\n",
       " '기쁨, 분노, 안경, 인간의 얼굴, 여자,',\n",
       " '여자, 청바지, 신발, 버스, 남자,',\n",
       " '슬픔, 여자, 인간의 얼굴, 남자, 의류,',\n",
       " '여자, 청바지, 신발, 버스, 남자,']"
      ]
     },
     "execution_count": 52,
     "metadata": {},
     "output_type": "execute_result"
    }
   ],
   "source": [
    "inputs_for_gpt_gen"
   ]
  }
 ],
 "metadata": {
  "kernelspec": {
   "display_name": "Python 3 (ipykernel)",
   "language": "python",
   "name": "python3"
  },
  "language_info": {
   "codemirror_mode": {
    "name": "ipython",
    "version": 3
   },
   "file_extension": ".py",
   "mimetype": "text/x-python",
   "name": "python",
   "nbconvert_exporter": "python",
   "pygments_lexer": "ipython3",
   "version": "3.11.0"
  }
 },
 "nbformat": 4,
 "nbformat_minor": 2
}
