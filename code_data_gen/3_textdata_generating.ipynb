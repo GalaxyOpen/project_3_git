{
 "cells": [
  {
   "cell_type": "code",
   "execution_count": null,
   "metadata": {},
   "outputs": [],
   "source": [
    "!pip install google-generativeai --upgrade\n",
    "!pip install pillow\n",
    "!pip install openai"
   ]
  },
  {
   "cell_type": "code",
   "execution_count": 130,
   "metadata": {},
   "outputs": [],
   "source": [
    "from openai import OpenAI\n",
    "\n",
    "client = OpenAI(\n",
    "    api_key=keys['chatgpt'],  \n",
    "    organization='org-CLPrdPtadAxzTZ2xjjbMpVMi'\n",
    ")\n",
    "\n",
    "def chatgpt_gen(prompt):\n",
    "    stream = client.chat.completions.create(\n",
    "        model=\"gpt-4o-mini\",\n",
    "        messages=[\n",
    "            {\n",
    "                \"role\": \"system\",\n",
    "                \"content\": \"자연 스러운 sns 댓글 생성기, 존댓말 붙히기\"\n",
    "            },\n",
    "            {\n",
    "                \"role\": \"user\",\n",
    "                \"content\": prompt,\n",
    "            }\n",
    "            ],\n",
    "        stream=True,\n",
    "    )\n",
    "\n",
    "    out = ''\n",
    "    for chunk in stream:\n",
    "        if chunk.choices[0].delta.content is not None:\n",
    "            out += chunk.choices[0].delta.content\n",
    "    return out"
   ]
  },
  {
   "cell_type": "code",
   "execution_count": 127,
   "metadata": {},
   "outputs": [],
   "source": [
    "import google.generativeai as genai\n",
    "import PIL.Image\n",
    "import os\n",
    "import json\n",
    "\n",
    "with open('../api.json', 'r', encoding='utf-8') as file:\n",
    "    keys = (json.load(file))\n",
    "\n",
    "\n",
    "def prompting(input_):\n",
    "    return f\"\"\"\n",
    "사진에 대한 댓글 입력\n",
    "질문 금지\n",
    "sns 사진 요소 : '분노, 여자, 인간의 얼굴, 공, 의류'\n",
    "sns 댓글 : 화가 난 듯한 표정이네! 🏀 공은 무슨 종류야? 옷도 멋지다! 😊\n",
    "\n",
    "예측 한문장\n",
    "sns 사진 요소 : {input_}\n",
    "sns 댓글 : \"\"\"\n",
    "\n",
    "def gemini_gen(input_text_):\n",
    "    genai.configure(api_key=keys['gemini'])\n",
    "    model = genai.GenerativeModel(model_name=\"gemini-1.5-flash\")\n",
    "    response = model.generate_content(['자연 스러운 sns 댓글 생성기, 존댓말 붙히기',input_text_]) #, img])\\\n",
    "    print(response.text)\n",
    "\n"
   ]
  },
  {
   "cell_type": "code",
   "execution_count": 128,
   "metadata": {},
   "outputs": [],
   "source": [
    "input = '슬픔, 여자, 인간의 얼굴, 의류, 재킷, 남자'\n",
    "input_text = prompting(input)"
   ]
  },
  {
   "cell_type": "code",
   "execution_count": 131,
   "metadata": {},
   "outputs": [
    {
     "name": "stdout",
     "output_type": "stream",
     "text": [
      "슬픔이 느껴지는 표정이네요. 😔  따뜻한 재킷이 멋지네요! 😊  \n",
      "\n"
     ]
    },
    {
     "data": {
      "text/plain": [
       "'슬퍼 보이는 표정이네요… 재킷이 정말 멋진데, 어떤 스타일인지 궁금해요! 😢'"
      ]
     },
     "execution_count": 131,
     "metadata": {},
     "output_type": "execute_result"
    }
   ],
   "source": [
    "gemini_gen(input_text)\n",
    "chatgpt_gen(input_text)"
   ]
  }
 ],
 "metadata": {
  "kernelspec": {
   "display_name": "kdt",
   "language": "python",
   "name": "python3"
  },
  "language_info": {
   "codemirror_mode": {
    "name": "ipython",
    "version": 3
   },
   "file_extension": ".py",
   "mimetype": "text/x-python",
   "name": "python",
   "nbconvert_exporter": "python",
   "pygments_lexer": "ipython3",
   "version": "3.10.14"
  }
 },
 "nbformat": 4,
 "nbformat_minor": 2
}
